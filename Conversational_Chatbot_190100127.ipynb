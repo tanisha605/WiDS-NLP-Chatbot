{
  "nbformat": 4,
  "nbformat_minor": 0,
  "metadata": {
    "colab": {
      "provenance": []
    },
    "kernelspec": {
      "name": "python3",
      "display_name": "Python 3"
    },
    "language_info": {
      "name": "python"
    }
  },
  "cells": [
    {
      "cell_type": "markdown",
      "source": [
        "#Importing Modules"
      ],
      "metadata": {
        "id": "KkMafhCNTNgm"
      }
    },
    {
      "cell_type": "code",
      "execution_count": 1,
      "metadata": {
        "id": "0MAONxlLCymK"
      },
      "outputs": [],
      "source": [
        "# Import the required modules\n",
        "\n",
        "import random\n",
        "import json\n",
        "import pickle\n",
        "import numpy as np\n",
        "import nltk\n",
        "import tensorflow as tf"
      ]
    },
    {
      "cell_type": "code",
      "source": [
        "# ONLY IF YOU ARE USING COLAB. Upload intense.json to your drive and mount the drive to access it\n",
        "# Nothing to be added or changed here.\n",
        "\n",
        "intents = json.loads(open(\"/content/intense.json\").read())"
      ],
      "metadata": {
        "id": "A4k86sorDt3O"
      },
      "execution_count": 2,
      "outputs": []
    },
    {
      "cell_type": "code",
      "source": [
        "from keras.models import Sequential\n",
        "from nltk.stem import WordNetLemmatizer\n",
        "from keras.layers import Dense, Activation, Dropout\n",
        "from keras.optimizers import SGD"
      ],
      "metadata": {
        "id": "ZVwkG3G8L7Vd"
      },
      "execution_count": 3,
      "outputs": []
    },
    {
      "cell_type": "code",
      "source": [
        "nltk.download('punkt')"
      ],
      "metadata": {
        "colab": {
          "base_uri": "https://localhost:8080/"
        },
        "id": "I9Hft_ulMKT6",
        "outputId": "e7b191a2-c876-4b53-a759-4f70abcb138f"
      },
      "execution_count": 4,
      "outputs": [
        {
          "output_type": "stream",
          "name": "stderr",
          "text": [
            "[nltk_data] Downloading package punkt to /root/nltk_data...\n",
            "[nltk_data]   Package punkt is already up-to-date!\n"
          ]
        },
        {
          "output_type": "execute_result",
          "data": {
            "text/plain": [
              "True"
            ]
          },
          "metadata": {},
          "execution_count": 4
        }
      ]
    },
    {
      "cell_type": "code",
      "source": [
        "\n",
        "# Create a lemmatizer. This later helps in processing the input text. \n",
        "# Nothing to be added or changed here.\n",
        "\n",
        "lemmatizer = WordNetLemmatizer()"
      ],
      "metadata": {
        "id": "Mu0Z92OMMKaQ"
      },
      "execution_count": 5,
      "outputs": []
    },
    {
      "cell_type": "code",
      "source": [
        "# Creating empty lists to store data\n",
        "# Nothing to be added or changed here.\n",
        "\n",
        "words = []\n",
        "classes = []\n",
        "documents = []\n",
        "ignore_letters = [\"?\", \"!\", \".\", \",\"]\n",
        "for intent in intents['intents']:\n",
        "    for pattern in intent['patterns']:\n",
        "        # separating words from patterns\n",
        "        word_list = nltk.word_tokenize(pattern)\n",
        "        words.extend(word_list)  # and adding them to words list\n",
        "          \n",
        "        # associating patterns with respective tags\n",
        "        documents.append(((word_list), intent['tag']))\n",
        "  \n",
        "        # appending the tags to the class list\n",
        "        if intent['tag'] not in classes:\n",
        "            classes.append(intent['tag'])"
      ],
      "metadata": {
        "id": "f7BwLwvQMKcF"
      },
      "execution_count": 6,
      "outputs": []
    },
    {
      "cell_type": "code",
      "source": [
        "\n",
        "nltk.download('wordnet')\n",
        "nltk.download('omw-1.4')"
      ],
      "metadata": {
        "colab": {
          "base_uri": "https://localhost:8080/"
        },
        "id": "6SkYAUwFMKfc",
        "outputId": "d43ef048-29e3-481e-a56e-287ae15d49bf"
      },
      "execution_count": 7,
      "outputs": [
        {
          "output_type": "stream",
          "name": "stderr",
          "text": [
            "[nltk_data] Downloading package wordnet to /root/nltk_data...\n",
            "[nltk_data]   Package wordnet is already up-to-date!\n",
            "[nltk_data] Downloading package omw-1.4 to /root/nltk_data...\n",
            "[nltk_data]   Package omw-1.4 is already up-to-date!\n"
          ]
        },
        {
          "output_type": "execute_result",
          "data": {
            "text/plain": [
              "True"
            ]
          },
          "metadata": {},
          "execution_count": 7
        }
      ]
    },
    {
      "cell_type": "code",
      "source": [
        "# Store the root words or lemma using the lemmatizer\n",
        "# Nothing to be added or changed here.\n",
        "\n",
        "words = [lemmatizer.lemmatize(word)\n",
        "         for word in words if word not in ignore_letters]\n",
        "words = sorted(set(words))"
      ],
      "metadata": {
        "id": "E_4e6OvdMKjJ"
      },
      "execution_count": 8,
      "outputs": []
    },
    {
      "cell_type": "code",
      "source": [
        "# Save the words and classes list to binary files\n",
        "# Nothing to be added or changed here.\n",
        "\n",
        "pickle.dump(words, open('words.pkl', 'wb'))\n",
        "pickle.dump(classes, open('classes.pkl', 'wb'))"
      ],
      "metadata": {
        "id": "gjmf9_MIM4nh"
      },
      "execution_count": 9,
      "outputs": []
    },
    {
      "cell_type": "code",
      "source": [
        "# No changes here\n",
        "\n",
        "training = []\n",
        "output_empty = [0]*len(classes)\n",
        "for document in documents:\n",
        "    bag = [] # Recall Bag of Words!\n",
        "    word_patterns = document[0]\n",
        "    word_patterns = [lemmatizer.lemmatize(\n",
        "        word.lower()) for word in word_patterns]\n",
        "    for word in words:\n",
        "        bag.append(1) if word in word_patterns else bag.append(0)\n",
        "          \n",
        "    # Make a copy of the output_empty\n",
        "    output_row = list(output_empty)\n",
        "    output_row[classes.index(document[1])] = 1\n",
        "    training.append([bag, output_row])\n",
        "random.shuffle(training)\n",
        "training = np.array(training)"
      ],
      "metadata": {
        "colab": {
          "base_uri": "https://localhost:8080/"
        },
        "id": "xuh2J3dSM4pR",
        "outputId": "0dcc6362-c27c-4e07-b5bc-c253c2ed29f5"
      },
      "execution_count": 10,
      "outputs": [
        {
          "output_type": "stream",
          "name": "stderr",
          "text": [
            "<ipython-input-10-cd8c504277ce>:18: VisibleDeprecationWarning: Creating an ndarray from ragged nested sequences (which is a list-or-tuple of lists-or-tuples-or ndarrays with different lengths or shapes) is deprecated. If you meant to do this, you must specify 'dtype=object' when creating the ndarray.\n",
            "  training = np.array(training)\n"
          ]
        }
      ]
    },
    {
      "cell_type": "markdown",
      "source": [
        "#Training Model"
      ],
      "metadata": {
        "id": "nF_woeq1TciU"
      }
    },
    {
      "cell_type": "code",
      "source": [
        "# Split the data into train_x and train_y\n",
        "train_x = list(training[:,0])\n",
        "train_y = list(training[:,1])\n"
      ],
      "metadata": {
        "id": "prBiAkFUM4sQ"
      },
      "execution_count": 11,
      "outputs": []
    },
    {
      "cell_type": "code",
      "source": [
        "# Create a Neural network using a Sequential layer, followed by a few alternating dense and dropout layers. \n",
        "# Use activation function 'relu' and a dropout of 0.5. For the last dense layer, use 'softmax' activation function\n",
        "\n",
        "model = Sequential()\n",
        "model.add(Dense(128, input_shape=(len(train_x[0]), ), activation='relu'))\n",
        "model.add(Dropout(0.5))\n",
        "model.add(Dense(64, activation='relu'))\n",
        "model.add(Dropout(0.5))\n",
        "model.add(Dense(len(train_y[0]), activation='softmax'))"
      ],
      "metadata": {
        "id": "Wlt-yKU7M4vx"
      },
      "execution_count": 12,
      "outputs": []
    },
    {
      "cell_type": "code",
      "source": [
        "# Compile the model\n",
        "# No changes here \n",
        "\n",
        "sgd = SGD(lr=0.01, decay=1e-6, momentum=0.9, nesterov=True)\n",
        "model.compile(loss='categorical_crossentropy',\n",
        "              optimizer=sgd, metrics=['accuracy'])\n",
        "hist = model.fit(np.array(train_x), np.array(train_y),\n",
        "                 epochs=200, batch_size=5, verbose=1)\n",
        "     "
      ],
      "metadata": {
        "colab": {
          "base_uri": "https://localhost:8080/"
        },
        "id": "fHzsTTurOeHc",
        "outputId": "a8016c9c-3ae2-466d-b9b9-fb5db9064ff8"
      },
      "execution_count": 13,
      "outputs": [
        {
          "output_type": "stream",
          "name": "stdout",
          "text": [
            "Epoch 1/200\n"
          ]
        },
        {
          "output_type": "stream",
          "name": "stderr",
          "text": [
            "/usr/local/lib/python3.8/dist-packages/keras/optimizers/optimizer_v2/gradient_descent.py:108: UserWarning: The `lr` argument is deprecated, use `learning_rate` instead.\n",
            "  super(SGD, self).__init__(name, **kwargs)\n"
          ]
        },
        {
          "output_type": "stream",
          "name": "stdout",
          "text": [
            "4/4 [==============================] - 1s 8ms/step - loss: 1.1553 - accuracy: 0.1765\n",
            "Epoch 2/200\n",
            "4/4 [==============================] - 0s 8ms/step - loss: 1.0805 - accuracy: 0.2941\n",
            "Epoch 3/200\n",
            "4/4 [==============================] - 0s 8ms/step - loss: 1.0739 - accuracy: 0.3529\n",
            "Epoch 4/200\n",
            "4/4 [==============================] - 0s 8ms/step - loss: 1.0870 - accuracy: 0.4118\n",
            "Epoch 5/200\n",
            "4/4 [==============================] - 0s 11ms/step - loss: 1.0290 - accuracy: 0.6471\n",
            "Epoch 6/200\n",
            "4/4 [==============================] - 0s 8ms/step - loss: 0.9144 - accuracy: 0.5882\n",
            "Epoch 7/200\n",
            "4/4 [==============================] - 0s 24ms/step - loss: 1.0041 - accuracy: 0.5882\n",
            "Epoch 8/200\n",
            "4/4 [==============================] - 0s 14ms/step - loss: 0.9895 - accuracy: 0.5882\n",
            "Epoch 9/200\n",
            "4/4 [==============================] - 0s 6ms/step - loss: 0.9897 - accuracy: 0.6471\n",
            "Epoch 10/200\n",
            "4/4 [==============================] - 0s 6ms/step - loss: 0.8318 - accuracy: 0.7647\n",
            "Epoch 11/200\n",
            "4/4 [==============================] - 0s 5ms/step - loss: 0.8612 - accuracy: 0.7647\n",
            "Epoch 12/200\n",
            "4/4 [==============================] - 0s 5ms/step - loss: 0.8876 - accuracy: 0.5882\n",
            "Epoch 13/200\n",
            "4/4 [==============================] - 0s 9ms/step - loss: 0.8427 - accuracy: 0.6471\n",
            "Epoch 14/200\n",
            "4/4 [==============================] - 0s 15ms/step - loss: 0.7645 - accuracy: 0.7647\n",
            "Epoch 15/200\n",
            "4/4 [==============================] - 0s 10ms/step - loss: 0.7409 - accuracy: 0.7647\n",
            "Epoch 16/200\n",
            "4/4 [==============================] - 0s 8ms/step - loss: 0.7712 - accuracy: 0.5294\n",
            "Epoch 17/200\n",
            "4/4 [==============================] - 0s 8ms/step - loss: 0.7501 - accuracy: 0.8824\n",
            "Epoch 18/200\n",
            "4/4 [==============================] - 0s 8ms/step - loss: 0.6329 - accuracy: 0.8824\n",
            "Epoch 19/200\n",
            "4/4 [==============================] - 0s 10ms/step - loss: 0.6170 - accuracy: 0.8235\n",
            "Epoch 20/200\n",
            "4/4 [==============================] - 0s 7ms/step - loss: 0.6185 - accuracy: 0.7647\n",
            "Epoch 21/200\n",
            "4/4 [==============================] - 0s 12ms/step - loss: 0.5793 - accuracy: 0.8235\n",
            "Epoch 22/200\n",
            "4/4 [==============================] - 0s 16ms/step - loss: 0.6259 - accuracy: 0.8235\n",
            "Epoch 23/200\n",
            "4/4 [==============================] - 0s 12ms/step - loss: 0.5297 - accuracy: 0.8235\n",
            "Epoch 24/200\n",
            "4/4 [==============================] - 0s 5ms/step - loss: 0.3514 - accuracy: 0.9412\n",
            "Epoch 25/200\n",
            "4/4 [==============================] - 0s 6ms/step - loss: 0.3686 - accuracy: 0.8235\n",
            "Epoch 26/200\n",
            "4/4 [==============================] - 0s 6ms/step - loss: 0.5935 - accuracy: 0.8235\n",
            "Epoch 27/200\n",
            "4/4 [==============================] - 0s 7ms/step - loss: 0.2794 - accuracy: 0.9412\n",
            "Epoch 28/200\n",
            "4/4 [==============================] - 0s 11ms/step - loss: 0.4435 - accuracy: 0.8235\n",
            "Epoch 29/200\n",
            "4/4 [==============================] - 0s 6ms/step - loss: 0.4702 - accuracy: 0.8235\n",
            "Epoch 30/200\n",
            "4/4 [==============================] - 0s 6ms/step - loss: 0.4790 - accuracy: 0.7647\n",
            "Epoch 31/200\n",
            "4/4 [==============================] - 0s 6ms/step - loss: 0.4054 - accuracy: 0.8235\n",
            "Epoch 32/200\n",
            "4/4 [==============================] - 0s 7ms/step - loss: 0.4282 - accuracy: 0.8824\n",
            "Epoch 33/200\n",
            "4/4 [==============================] - 0s 7ms/step - loss: 0.2994 - accuracy: 0.8824\n",
            "Epoch 34/200\n",
            "4/4 [==============================] - 0s 7ms/step - loss: 0.5318 - accuracy: 0.8235\n",
            "Epoch 35/200\n",
            "4/4 [==============================] - 0s 9ms/step - loss: 0.3438 - accuracy: 0.9412\n",
            "Epoch 36/200\n",
            "4/4 [==============================] - 0s 10ms/step - loss: 0.3780 - accuracy: 0.9412\n",
            "Epoch 37/200\n",
            "4/4 [==============================] - 0s 9ms/step - loss: 0.2921 - accuracy: 0.8824\n",
            "Epoch 38/200\n",
            "4/4 [==============================] - 0s 7ms/step - loss: 0.3086 - accuracy: 0.9412\n",
            "Epoch 39/200\n",
            "4/4 [==============================] - 0s 10ms/step - loss: 0.3502 - accuracy: 0.8824\n",
            "Epoch 40/200\n",
            "4/4 [==============================] - 0s 8ms/step - loss: 0.4542 - accuracy: 0.8235\n",
            "Epoch 41/200\n",
            "4/4 [==============================] - 0s 6ms/step - loss: 0.2336 - accuracy: 0.9412\n",
            "Epoch 42/200\n",
            "4/4 [==============================] - 0s 8ms/step - loss: 0.4129 - accuracy: 0.9412\n",
            "Epoch 43/200\n",
            "4/4 [==============================] - 0s 6ms/step - loss: 0.3059 - accuracy: 0.9412\n",
            "Epoch 44/200\n",
            "4/4 [==============================] - 0s 5ms/step - loss: 0.3005 - accuracy: 0.9412\n",
            "Epoch 45/200\n",
            "4/4 [==============================] - 0s 4ms/step - loss: 0.2866 - accuracy: 0.9412\n",
            "Epoch 46/200\n",
            "4/4 [==============================] - 0s 9ms/step - loss: 0.3585 - accuracy: 0.9412\n",
            "Epoch 47/200\n",
            "4/4 [==============================] - 0s 9ms/step - loss: 0.2534 - accuracy: 0.9412\n",
            "Epoch 48/200\n",
            "4/4 [==============================] - 0s 5ms/step - loss: 0.2537 - accuracy: 0.9412\n",
            "Epoch 49/200\n",
            "4/4 [==============================] - 0s 8ms/step - loss: 0.3239 - accuracy: 0.8824\n",
            "Epoch 50/200\n",
            "4/4 [==============================] - 0s 6ms/step - loss: 0.2356 - accuracy: 0.9412\n",
            "Epoch 51/200\n",
            "4/4 [==============================] - 0s 7ms/step - loss: 0.2764 - accuracy: 0.8235\n",
            "Epoch 52/200\n",
            "4/4 [==============================] - 0s 6ms/step - loss: 0.2730 - accuracy: 0.9412\n",
            "Epoch 53/200\n",
            "4/4 [==============================] - 0s 7ms/step - loss: 0.2583 - accuracy: 0.9412\n",
            "Epoch 54/200\n",
            "4/4 [==============================] - 0s 10ms/step - loss: 0.2849 - accuracy: 0.8235\n",
            "Epoch 55/200\n",
            "4/4 [==============================] - 0s 6ms/step - loss: 0.2319 - accuracy: 0.9412\n",
            "Epoch 56/200\n",
            "4/4 [==============================] - 0s 9ms/step - loss: 0.1737 - accuracy: 0.9412\n",
            "Epoch 57/200\n",
            "4/4 [==============================] - 0s 7ms/step - loss: 0.1225 - accuracy: 1.0000\n",
            "Epoch 58/200\n",
            "4/4 [==============================] - 0s 8ms/step - loss: 0.1756 - accuracy: 0.9412\n",
            "Epoch 59/200\n",
            "4/4 [==============================] - 0s 7ms/step - loss: 0.1881 - accuracy: 0.9412\n",
            "Epoch 60/200\n",
            "4/4 [==============================] - 0s 12ms/step - loss: 0.2636 - accuracy: 0.8824\n",
            "Epoch 61/200\n",
            "4/4 [==============================] - 0s 14ms/step - loss: 0.2753 - accuracy: 0.9412\n",
            "Epoch 62/200\n",
            "4/4 [==============================] - 0s 10ms/step - loss: 0.3372 - accuracy: 0.8824\n",
            "Epoch 63/200\n",
            "4/4 [==============================] - 0s 7ms/step - loss: 0.2910 - accuracy: 0.8824\n",
            "Epoch 64/200\n",
            "4/4 [==============================] - 0s 7ms/step - loss: 0.2450 - accuracy: 0.9412\n",
            "Epoch 65/200\n",
            "4/4 [==============================] - 0s 7ms/step - loss: 0.3204 - accuracy: 0.8824\n",
            "Epoch 66/200\n",
            "4/4 [==============================] - 0s 10ms/step - loss: 0.3052 - accuracy: 0.9412\n",
            "Epoch 67/200\n",
            "4/4 [==============================] - 0s 9ms/step - loss: 0.1787 - accuracy: 0.9412\n",
            "Epoch 68/200\n",
            "4/4 [==============================] - 0s 9ms/step - loss: 0.2334 - accuracy: 0.8824\n",
            "Epoch 69/200\n",
            "4/4 [==============================] - 0s 12ms/step - loss: 0.2803 - accuracy: 0.8824\n",
            "Epoch 70/200\n",
            "4/4 [==============================] - 0s 14ms/step - loss: 0.2891 - accuracy: 0.9412\n",
            "Epoch 71/200\n",
            "4/4 [==============================] - 0s 8ms/step - loss: 0.2260 - accuracy: 0.8824\n",
            "Epoch 72/200\n",
            "4/4 [==============================] - 0s 9ms/step - loss: 0.1708 - accuracy: 0.9412\n",
            "Epoch 73/200\n",
            "4/4 [==============================] - 0s 7ms/step - loss: 0.3210 - accuracy: 0.8824\n",
            "Epoch 74/200\n",
            "4/4 [==============================] - 0s 8ms/step - loss: 0.2745 - accuracy: 0.8235\n",
            "Epoch 75/200\n",
            "4/4 [==============================] - 0s 7ms/step - loss: 0.3088 - accuracy: 0.8824\n",
            "Epoch 76/200\n",
            "4/4 [==============================] - 0s 7ms/step - loss: 0.2185 - accuracy: 0.9412\n",
            "Epoch 77/200\n",
            "4/4 [==============================] - 0s 8ms/step - loss: 0.2527 - accuracy: 0.9412\n",
            "Epoch 78/200\n",
            "4/4 [==============================] - 0s 7ms/step - loss: 0.1737 - accuracy: 0.9412\n",
            "Epoch 79/200\n",
            "4/4 [==============================] - 0s 10ms/step - loss: 0.2272 - accuracy: 0.9412\n",
            "Epoch 80/200\n",
            "4/4 [==============================] - 0s 13ms/step - loss: 0.2753 - accuracy: 0.9412\n",
            "Epoch 81/200\n",
            "4/4 [==============================] - 0s 8ms/step - loss: 0.2249 - accuracy: 0.9412\n",
            "Epoch 82/200\n",
            "4/4 [==============================] - 0s 13ms/step - loss: 0.2735 - accuracy: 0.9412\n",
            "Epoch 83/200\n",
            "4/4 [==============================] - 0s 9ms/step - loss: 0.1644 - accuracy: 0.9412\n",
            "Epoch 84/200\n",
            "4/4 [==============================] - 0s 14ms/step - loss: 0.2101 - accuracy: 0.8824\n",
            "Epoch 85/200\n",
            "4/4 [==============================] - 0s 10ms/step - loss: 0.1906 - accuracy: 0.8824\n",
            "Epoch 86/200\n",
            "4/4 [==============================] - 0s 14ms/step - loss: 0.2041 - accuracy: 0.9412\n",
            "Epoch 87/200\n",
            "4/4 [==============================] - 0s 11ms/step - loss: 0.3060 - accuracy: 0.8235\n",
            "Epoch 88/200\n",
            "4/4 [==============================] - 0s 31ms/step - loss: 0.2867 - accuracy: 0.8235\n",
            "Epoch 89/200\n",
            "4/4 [==============================] - 0s 11ms/step - loss: 0.3391 - accuracy: 0.8235\n",
            "Epoch 90/200\n",
            "4/4 [==============================] - 0s 5ms/step - loss: 0.2523 - accuracy: 0.8824\n",
            "Epoch 91/200\n",
            "4/4 [==============================] - 0s 7ms/step - loss: 0.1947 - accuracy: 0.9412\n",
            "Epoch 92/200\n",
            "4/4 [==============================] - 0s 7ms/step - loss: 0.2011 - accuracy: 0.9412\n",
            "Epoch 93/200\n",
            "4/4 [==============================] - 0s 8ms/step - loss: 0.3012 - accuracy: 0.9412\n",
            "Epoch 94/200\n",
            "4/4 [==============================] - 0s 7ms/step - loss: 0.2083 - accuracy: 0.9412\n",
            "Epoch 95/200\n",
            "4/4 [==============================] - 0s 11ms/step - loss: 0.2664 - accuracy: 0.9412\n",
            "Epoch 96/200\n",
            "4/4 [==============================] - 0s 13ms/step - loss: 0.2090 - accuracy: 0.9412\n",
            "Epoch 97/200\n",
            "4/4 [==============================] - 0s 8ms/step - loss: 0.2956 - accuracy: 0.9412\n",
            "Epoch 98/200\n",
            "4/4 [==============================] - 0s 26ms/step - loss: 0.1897 - accuracy: 0.9412\n",
            "Epoch 99/200\n",
            "4/4 [==============================] - 0s 10ms/step - loss: 0.2423 - accuracy: 0.9412\n",
            "Epoch 100/200\n",
            "4/4 [==============================] - 0s 10ms/step - loss: 0.3207 - accuracy: 0.8235\n",
            "Epoch 101/200\n",
            "4/4 [==============================] - 0s 14ms/step - loss: 0.1702 - accuracy: 0.9412\n",
            "Epoch 102/200\n",
            "4/4 [==============================] - 0s 11ms/step - loss: 0.1899 - accuracy: 0.9412\n",
            "Epoch 103/200\n",
            "4/4 [==============================] - 0s 16ms/step - loss: 0.2106 - accuracy: 0.9412\n",
            "Epoch 104/200\n",
            "4/4 [==============================] - 0s 10ms/step - loss: 0.2305 - accuracy: 0.9412\n",
            "Epoch 105/200\n",
            "4/4 [==============================] - 0s 8ms/step - loss: 0.1359 - accuracy: 0.9412\n",
            "Epoch 106/200\n",
            "4/4 [==============================] - 0s 14ms/step - loss: 0.2216 - accuracy: 0.9412\n",
            "Epoch 107/200\n",
            "4/4 [==============================] - 0s 6ms/step - loss: 0.1178 - accuracy: 0.9412\n",
            "Epoch 108/200\n",
            "4/4 [==============================] - 0s 7ms/step - loss: 0.1469 - accuracy: 0.9412\n",
            "Epoch 109/200\n",
            "4/4 [==============================] - 0s 7ms/step - loss: 0.1999 - accuracy: 0.8824\n",
            "Epoch 110/200\n",
            "4/4 [==============================] - 0s 6ms/step - loss: 0.1869 - accuracy: 0.9412\n",
            "Epoch 111/200\n",
            "4/4 [==============================] - 0s 7ms/step - loss: 0.1360 - accuracy: 0.9412\n",
            "Epoch 112/200\n",
            "4/4 [==============================] - 0s 7ms/step - loss: 0.2417 - accuracy: 0.9412\n",
            "Epoch 113/200\n",
            "4/4 [==============================] - 0s 7ms/step - loss: 0.1518 - accuracy: 0.9412\n",
            "Epoch 114/200\n",
            "4/4 [==============================] - 0s 8ms/step - loss: 0.1727 - accuracy: 0.9412\n",
            "Epoch 115/200\n",
            "4/4 [==============================] - 0s 9ms/step - loss: 0.1847 - accuracy: 0.8824\n",
            "Epoch 116/200\n",
            "4/4 [==============================] - 0s 10ms/step - loss: 0.1598 - accuracy: 0.9412\n",
            "Epoch 117/200\n",
            "4/4 [==============================] - 0s 12ms/step - loss: 0.2083 - accuracy: 0.9412\n",
            "Epoch 118/200\n",
            "4/4 [==============================] - 0s 9ms/step - loss: 0.1656 - accuracy: 0.9412\n",
            "Epoch 119/200\n",
            "4/4 [==============================] - 0s 11ms/step - loss: 0.1900 - accuracy: 0.9412\n",
            "Epoch 120/200\n",
            "4/4 [==============================] - 0s 12ms/step - loss: 0.1773 - accuracy: 0.9412\n",
            "Epoch 121/200\n",
            "4/4 [==============================] - 0s 9ms/step - loss: 0.2642 - accuracy: 0.9412\n",
            "Epoch 122/200\n",
            "4/4 [==============================] - 0s 10ms/step - loss: 0.2553 - accuracy: 0.8824\n",
            "Epoch 123/200\n",
            "4/4 [==============================] - 0s 6ms/step - loss: 0.1337 - accuracy: 0.9412\n",
            "Epoch 124/200\n",
            "4/4 [==============================] - 0s 12ms/step - loss: 0.1761 - accuracy: 0.9412\n",
            "Epoch 125/200\n",
            "4/4 [==============================] - 0s 8ms/step - loss: 0.1282 - accuracy: 1.0000\n",
            "Epoch 126/200\n",
            "4/4 [==============================] - 0s 6ms/step - loss: 0.1366 - accuracy: 0.9412\n",
            "Epoch 127/200\n",
            "4/4 [==============================] - 0s 8ms/step - loss: 0.2290 - accuracy: 0.8824\n",
            "Epoch 128/200\n",
            "4/4 [==============================] - 0s 7ms/step - loss: 0.1960 - accuracy: 0.9412\n",
            "Epoch 129/200\n",
            "4/4 [==============================] - 0s 7ms/step - loss: 0.2227 - accuracy: 0.8824\n",
            "Epoch 130/200\n",
            "4/4 [==============================] - 0s 16ms/step - loss: 0.2646 - accuracy: 0.8824\n",
            "Epoch 131/200\n",
            "4/4 [==============================] - 0s 8ms/step - loss: 0.1450 - accuracy: 0.9412\n",
            "Epoch 132/200\n",
            "4/4 [==============================] - 0s 7ms/step - loss: 0.1834 - accuracy: 0.9412\n",
            "Epoch 133/200\n",
            "4/4 [==============================] - 0s 8ms/step - loss: 0.1669 - accuracy: 0.8824\n",
            "Epoch 134/200\n",
            "4/4 [==============================] - 0s 12ms/step - loss: 0.2355 - accuracy: 0.9412\n",
            "Epoch 135/200\n",
            "4/4 [==============================] - 0s 14ms/step - loss: 0.1965 - accuracy: 0.9412\n",
            "Epoch 136/200\n",
            "4/4 [==============================] - 0s 7ms/step - loss: 0.1909 - accuracy: 0.9412\n",
            "Epoch 137/200\n",
            "4/4 [==============================] - 0s 5ms/step - loss: 0.2070 - accuracy: 0.9412\n",
            "Epoch 138/200\n",
            "4/4 [==============================] - 0s 5ms/step - loss: 0.2115 - accuracy: 0.9412\n",
            "Epoch 139/200\n",
            "4/4 [==============================] - 0s 5ms/step - loss: 0.1857 - accuracy: 0.9412\n",
            "Epoch 140/200\n",
            "4/4 [==============================] - 0s 9ms/step - loss: 0.1554 - accuracy: 0.9412\n",
            "Epoch 141/200\n",
            "4/4 [==============================] - 0s 10ms/step - loss: 0.1173 - accuracy: 0.9412\n",
            "Epoch 142/200\n",
            "4/4 [==============================] - 0s 6ms/step - loss: 0.1630 - accuracy: 0.9412\n",
            "Epoch 143/200\n",
            "4/4 [==============================] - 0s 8ms/step - loss: 0.1475 - accuracy: 0.9412\n",
            "Epoch 144/200\n",
            "4/4 [==============================] - 0s 6ms/step - loss: 0.1225 - accuracy: 0.9412\n",
            "Epoch 145/200\n",
            "4/4 [==============================] - 0s 6ms/step - loss: 0.1150 - accuracy: 0.9412\n",
            "Epoch 146/200\n",
            "4/4 [==============================] - 0s 6ms/step - loss: 0.1675 - accuracy: 0.9412\n",
            "Epoch 147/200\n",
            "4/4 [==============================] - 0s 10ms/step - loss: 0.1450 - accuracy: 0.9412\n",
            "Epoch 148/200\n",
            "4/4 [==============================] - 0s 7ms/step - loss: 0.2261 - accuracy: 0.8824\n",
            "Epoch 149/200\n",
            "4/4 [==============================] - 0s 5ms/step - loss: 0.1279 - accuracy: 1.0000\n",
            "Epoch 150/200\n",
            "4/4 [==============================] - 0s 6ms/step - loss: 0.2349 - accuracy: 0.9412\n",
            "Epoch 151/200\n",
            "4/4 [==============================] - 0s 5ms/step - loss: 0.1770 - accuracy: 0.9412\n",
            "Epoch 152/200\n",
            "4/4 [==============================] - 0s 10ms/step - loss: 0.1276 - accuracy: 0.9412\n",
            "Epoch 153/200\n",
            "4/4 [==============================] - 0s 8ms/step - loss: 0.3684 - accuracy: 0.9412\n",
            "Epoch 154/200\n",
            "4/4 [==============================] - 0s 12ms/step - loss: 0.1842 - accuracy: 0.9412\n",
            "Epoch 155/200\n",
            "4/4 [==============================] - 0s 8ms/step - loss: 0.1491 - accuracy: 0.9412\n",
            "Epoch 156/200\n",
            "4/4 [==============================] - 0s 7ms/step - loss: 0.1323 - accuracy: 0.9412\n",
            "Epoch 157/200\n",
            "4/4 [==============================] - 0s 6ms/step - loss: 0.1664 - accuracy: 0.9412\n",
            "Epoch 158/200\n",
            "4/4 [==============================] - 0s 5ms/step - loss: 0.1855 - accuracy: 0.9412\n",
            "Epoch 159/200\n",
            "4/4 [==============================] - 0s 5ms/step - loss: 0.1507 - accuracy: 0.9412\n",
            "Epoch 160/200\n",
            "4/4 [==============================] - 0s 5ms/step - loss: 0.1676 - accuracy: 0.9412\n",
            "Epoch 161/200\n",
            "4/4 [==============================] - 0s 8ms/step - loss: 0.1833 - accuracy: 0.9412\n",
            "Epoch 162/200\n",
            "4/4 [==============================] - 0s 12ms/step - loss: 0.0980 - accuracy: 0.9412\n",
            "Epoch 163/200\n",
            "4/4 [==============================] - 0s 5ms/step - loss: 0.1994 - accuracy: 0.9412\n",
            "Epoch 164/200\n",
            "4/4 [==============================] - 0s 5ms/step - loss: 0.2029 - accuracy: 0.9412\n",
            "Epoch 165/200\n",
            "4/4 [==============================] - 0s 5ms/step - loss: 0.1936 - accuracy: 0.9412\n",
            "Epoch 166/200\n",
            "4/4 [==============================] - 0s 5ms/step - loss: 0.1846 - accuracy: 0.9412\n",
            "Epoch 167/200\n",
            "4/4 [==============================] - 0s 4ms/step - loss: 0.1835 - accuracy: 0.9412\n",
            "Epoch 168/200\n",
            "4/4 [==============================] - 0s 8ms/step - loss: 0.1663 - accuracy: 0.9412\n",
            "Epoch 169/200\n",
            "4/4 [==============================] - 0s 8ms/step - loss: 0.1107 - accuracy: 0.9412\n",
            "Epoch 170/200\n",
            "4/4 [==============================] - 0s 7ms/step - loss: 0.2186 - accuracy: 0.9412\n",
            "Epoch 171/200\n",
            "4/4 [==============================] - 0s 7ms/step - loss: 0.1967 - accuracy: 0.9412\n",
            "Epoch 172/200\n",
            "4/4 [==============================] - 0s 6ms/step - loss: 0.1352 - accuracy: 0.9412\n",
            "Epoch 173/200\n",
            "4/4 [==============================] - 0s 7ms/step - loss: 0.2268 - accuracy: 0.8824\n",
            "Epoch 174/200\n",
            "4/4 [==============================] - 0s 7ms/step - loss: 0.1929 - accuracy: 0.8824\n",
            "Epoch 175/200\n",
            "4/4 [==============================] - 0s 8ms/step - loss: 0.0997 - accuracy: 0.9412\n",
            "Epoch 176/200\n",
            "4/4 [==============================] - 0s 7ms/step - loss: 0.1587 - accuracy: 0.9412\n",
            "Epoch 177/200\n",
            "4/4 [==============================] - 0s 5ms/step - loss: 0.1103 - accuracy: 0.9412\n",
            "Epoch 178/200\n",
            "4/4 [==============================] - 0s 7ms/step - loss: 0.1324 - accuracy: 0.9412\n",
            "Epoch 179/200\n",
            "4/4 [==============================] - 0s 6ms/step - loss: 0.1825 - accuracy: 0.9412\n",
            "Epoch 180/200\n",
            "4/4 [==============================] - 0s 5ms/step - loss: 0.1232 - accuracy: 0.9412\n",
            "Epoch 181/200\n",
            "4/4 [==============================] - 0s 5ms/step - loss: 0.1637 - accuracy: 0.9412\n",
            "Epoch 182/200\n",
            "4/4 [==============================] - 0s 5ms/step - loss: 0.2460 - accuracy: 0.9412\n",
            "Epoch 183/200\n",
            "4/4 [==============================] - 0s 5ms/step - loss: 0.2057 - accuracy: 0.8824\n",
            "Epoch 184/200\n",
            "4/4 [==============================] - 0s 5ms/step - loss: 0.1375 - accuracy: 0.9412\n",
            "Epoch 185/200\n",
            "4/4 [==============================] - 0s 6ms/step - loss: 0.2251 - accuracy: 0.8824\n",
            "Epoch 186/200\n",
            "4/4 [==============================] - 0s 5ms/step - loss: 0.2196 - accuracy: 0.9412\n",
            "Epoch 187/200\n",
            "4/4 [==============================] - 0s 6ms/step - loss: 0.1472 - accuracy: 0.9412\n",
            "Epoch 188/200\n",
            "4/4 [==============================] - 0s 6ms/step - loss: 0.1875 - accuracy: 0.9412\n",
            "Epoch 189/200\n",
            "4/4 [==============================] - 0s 9ms/step - loss: 0.2033 - accuracy: 0.9412\n",
            "Epoch 190/200\n",
            "4/4 [==============================] - 0s 7ms/step - loss: 0.1670 - accuracy: 0.9412\n",
            "Epoch 191/200\n",
            "4/4 [==============================] - 0s 10ms/step - loss: 0.1590 - accuracy: 0.9412\n",
            "Epoch 192/200\n",
            "4/4 [==============================] - 0s 7ms/step - loss: 0.1550 - accuracy: 0.9412\n",
            "Epoch 193/200\n",
            "4/4 [==============================] - 0s 7ms/step - loss: 0.1385 - accuracy: 0.9412\n",
            "Epoch 194/200\n",
            "4/4 [==============================] - 0s 5ms/step - loss: 0.2244 - accuracy: 0.9412\n",
            "Epoch 195/200\n",
            "4/4 [==============================] - 0s 5ms/step - loss: 0.1495 - accuracy: 0.9412\n",
            "Epoch 196/200\n",
            "4/4 [==============================] - 0s 5ms/step - loss: 0.1559 - accuracy: 0.9412\n",
            "Epoch 197/200\n",
            "4/4 [==============================] - 0s 5ms/step - loss: 0.1346 - accuracy: 0.9412\n",
            "Epoch 198/200\n",
            "4/4 [==============================] - 0s 10ms/step - loss: 0.1799 - accuracy: 0.9412\n",
            "Epoch 199/200\n",
            "4/4 [==============================] - 0s 5ms/step - loss: 0.2119 - accuracy: 0.9412\n",
            "Epoch 200/200\n",
            "4/4 [==============================] - 0s 4ms/step - loss: 0.2359 - accuracy: 0.8824\n"
          ]
        }
      ]
    },
    {
      "cell_type": "code",
      "source": [
        "# Save the model for use ahead\n",
        "# No changes here\n",
        "\n",
        "model.save(\"chatbotmodel.h5\", hist)\n",
        "  \n",
        "# Print a message for the successful training of the Chatbot model\n",
        "print(\"Model saved!\")"
      ],
      "metadata": {
        "colab": {
          "base_uri": "https://localhost:8080/"
        },
        "id": "OIxczqJ5PVbA",
        "outputId": "3080d6d0-16e8-4d83-c613-4121d73ce647"
      },
      "execution_count": 14,
      "outputs": [
        {
          "output_type": "stream",
          "name": "stdout",
          "text": [
            "Model saved!\n"
          ]
        }
      ]
    },
    {
      "cell_type": "markdown",
      "source": [
        "#Executing Model"
      ],
      "metadata": {
        "id": "xl8EEjIQarBF"
      }
    },
    {
      "cell_type": "code",
      "source": [
        "# No change\n",
        "\n",
        "from keras.models import load_model"
      ],
      "metadata": {
        "id": "vDLDNk3DPVle"
      },
      "execution_count": 15,
      "outputs": []
    },
    {
      "cell_type": "code",
      "source": [
        "# Load the files we made previously - \n",
        "# load 'intense.json' into variable 'intents'\n",
        "# load 'words.pk1' into variable 'words'\n",
        "# load 'classes.pk1' into variable 'classes'\n",
        "# load 'chatbotmodel.h5' into variable 'model'\n",
        "\n",
        "lemmatizer = WordNetLemmatizer()\n",
        "intents = json.loads(open(\"intense.json\").read())\n",
        "words = pickle.load(open('words.pkl', 'rb'))\n",
        "classes = pickle.load(open('classes.pkl', 'rb'))\n",
        "model = load_model('chatbotmodel.h5')"
      ],
      "metadata": {
        "id": "xn9QeUtzPVnR"
      },
      "execution_count": 16,
      "outputs": []
    },
    {
      "cell_type": "code",
      "source": [
        "# Create a function 'clean_up_sentences(sentence)' to separate words from the input sentences (this is called tokenisation). \n",
        "# Use nltk.word_tokenize(sentence) and return the words of the sentence after lemmatization\n",
        "\n",
        "def clean_up_sentences(sentence):\n",
        "    sentence_words = nltk.word_tokenize(sentence)\n",
        "    sentence_words = [lemmatizer.lemmatize(word) for word in sentence_words]\n",
        "    return sentence_words"
      ],
      "metadata": {
        "id": "98g061I2PVq5"
      },
      "execution_count": 17,
      "outputs": []
    },
    {
      "cell_type": "code",
      "source": [
        "# Create a function 'bagw(sentence)' to  append 1 to a list variable ‘bag’ if the word is contained inside our input and is also present in the list of words created earlier.\n",
        "# Return a numpy array of the list variable bag that now contains 1’s and 0’s.\n",
        "\n",
        "def bagw(sentence):\n",
        "    \n",
        "    # Separate out words from the input sentence\n",
        "    sentence_words = clean_up_sentences(sentence)\n",
        "    bag = [0]*len(words)\n",
        "    for w in sentence_words:\n",
        "        for i, word in enumerate(words):\n",
        "  \n",
        "            # check whether the word\n",
        "            # is present in the input as well\n",
        "            if word == w:\n",
        "                bag[i] = 1\n",
        "\n",
        "            \n",
        "            \n",
        "    # return a numpy array\n",
        "    return np.array(bag)"
      ],
      "metadata": {
        "id": "8uZ1a1X6QkId"
      },
      "execution_count": 18,
      "outputs": []
    },
    {
      "cell_type": "code",
      "source": [
        "# Create a function 'predict_class(sentence)' to predict the class of the sentence input by the user.\n",
        "\n",
        "def predict_class(sentence):\n",
        "  # Initialize a variable 'bow' that will contain a NumPy array of 0’s and 1’s, using the bag(w) function defined above\n",
        "  # Your line of code here \n",
        "    bow = bagw(sentence)\n",
        "    res = model.predict(np.array([bow]))[0]\n",
        "\n",
        "    # In variable 'results', append from ‘res’ if the value is greater than the ERROR_THRESHOLD, then sort it using the sort function. \n",
        "    # No change\n",
        "    ERROR_THRESHOLD = 0.25\n",
        "    results = [[i, r] for i, r in enumerate(res) \n",
        "               if r > ERROR_THRESHOLD]\n",
        "    results.sort(key=lambda x: x[1], reverse=True)\n",
        "    return_list = []\n",
        "    for r in results:\n",
        "        return_list.append({'intent': classes[r[0]],\n",
        "                            'probability': str(r[1])})\n",
        "        return return_list"
      ],
      "metadata": {
        "id": "Iu-hxUsYQkKS"
      },
      "execution_count": 19,
      "outputs": []
    },
    {
      "cell_type": "code",
      "source": [
        "# Create 'get_response(intents_list, intents_json)' to generate a random response from whichever class the sentence/words input by the user belongs to.\n",
        "\n",
        "def get_response(intents_list, intents_json):\n",
        "    tag = intents_list[0]['intent']\n",
        "    list_of_intents = intents_json['intents']\n",
        "    result = \"\"\n",
        "    for i in list_of_intents:\n",
        "    # If the tag matches the tag in list_of_intents, store a random response from the 'intense.json' file in a variable called 'result'\n",
        "    # your code here\n",
        "        if i['tag'] == tag:\n",
        "            result = random.choice(i['responses'])  \n",
        "            break\n",
        "\n",
        "        \n",
        "    return result\n",
        "  \n",
        "print(\"Chatbot is up!\")"
      ],
      "metadata": {
        "colab": {
          "base_uri": "https://localhost:8080/"
        },
        "id": "ejNHkWTUQkN0",
        "outputId": "4b9b8373-f64e-444b-9dae-3e9762bc5455"
      },
      "execution_count": 20,
      "outputs": [
        {
          "output_type": "stream",
          "name": "stdout",
          "text": [
            "Chatbot is up!\n"
          ]
        }
      ]
    },
    {
      "cell_type": "markdown",
      "source": [
        "#Implementing Chatbot "
      ],
      "metadata": {
        "id": "337zHVSyTHL_"
      }
    },
    {
      "cell_type": "code",
      "source": [
        "# Create an infinite loop to keep the model running.\n",
        "# No edits here\n",
        "\n",
        "while True:\n",
        "    message = input(\"\")\n",
        "    ints = predict_class(message)\n",
        "    print(ints)\n",
        "    res = get_response(ints, intents)\n",
        "    print(res)\n",
        "    # Write a couple of lines of code to stop the infinite loop if the intent of the message is 'goodbye'\n",
        "    if ints[0]['intent'] == \"goodbye\":\n",
        "      break"
      ],
      "metadata": {
        "colab": {
          "base_uri": "https://localhost:8080/"
        },
        "id": "Wh1iV4keQkPs",
        "outputId": "ddbe2cf5-9b26-40dd-d4fa-0de2d10f84bb"
      },
      "execution_count": 31,
      "outputs": [
        {
          "output_type": "stream",
          "name": "stdout",
          "text": [
            "hi\n",
            "1/1 [==============================] - 0s 21ms/step\n",
            "[{'intent': 'greeting', 'probability': '0.74599296'}]\n",
            "Hi there, how can I help?\n",
            "thanks\n",
            "1/1 [==============================] - 0s 24ms/step\n",
            "[{'intent': 'thanks', 'probability': '0.99995923'}]\n",
            "My pleasure\n",
            "hello again\n",
            "1/1 [==============================] - 0s 21ms/step\n",
            "[{'intent': 'greeting', 'probability': '0.74599296'}]\n",
            "Good to see you again\n",
            "meet again\n",
            "1/1 [==============================] - 0s 22ms/step\n",
            "[{'intent': 'greeting', 'probability': '0.74599296'}]\n",
            "Good to see you again\n",
            "bye\n",
            "1/1 [==============================] - 0s 18ms/step\n",
            "[{'intent': 'goodbye', 'probability': '0.99795246'}]\n",
            "Bye! Come back again soon.\n"
          ]
        }
      ]
    }
  ]
}